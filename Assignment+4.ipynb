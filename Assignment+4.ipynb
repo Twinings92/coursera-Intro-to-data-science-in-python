{
 "cells": [
  {
   "cell_type": "markdown",
   "metadata": {},
   "source": [
    "---\n",
    "\n",
    "_You are currently looking at **version 1.1** of this notebook. To download notebooks and datafiles, as well as get help on Jupyter notebooks in the Coursera platform, visit the [Jupyter Notebook FAQ](https://www.coursera.org/learn/python-data-analysis/resources/0dhYG) course resource._\n",
    "\n",
    "---"
   ]
  },
  {
   "cell_type": "code",
   "execution_count": 2,
   "metadata": {
    "collapsed": true
   },
   "outputs": [],
   "source": [
    "import pandas as pd\n",
    "import numpy as np\n",
    "from scipy.stats import ttest_ind"
   ]
  },
  {
   "cell_type": "markdown",
   "metadata": {},
   "source": [
    "# Assignment 4 - Hypothesis Testing\n",
    "This assignment requires more individual learning than previous assignments - you are encouraged to check out the [pandas documentation](http://pandas.pydata.org/pandas-docs/stable/) to find functions or methods you might not have used yet, or ask questions on [Stack Overflow](http://stackoverflow.com/) and tag them as pandas and python related. And of course, the discussion forums are open for interaction with your peers and the course staff.\n",
    "\n",
    "Definitions:\n",
    "* A _quarter_ is a specific three month period, Q1 is January through March, Q2 is April through June, Q3 is July through September, Q4 is October through December.\n",
    "* A _recession_ is defined as starting with two consecutive quarters of GDP decline, and ending with two consecutive quarters of GDP growth.\n",
    "* A _recession bottom_ is the quarter within a recession which had the lowest GDP.\n",
    "* A _university town_ is a city which has a high percentage of university students compared to the total population of the city.\n",
    "\n",
    "**Hypothesis**: University towns have their mean housing prices less effected by recessions. Run a t-test to compare the ratio of the mean price of houses in university towns the quarter before the recession starts compared to the recession bottom. (`price_ratio=quarter_before_recession/recession_bottom`)\n",
    "\n",
    "The following data files are available for this assignment:\n",
    "* From the [Zillow research data site](http://www.zillow.com/research/data/) there is housing data for the United States. In particular the datafile for [all homes at a city level](http://files.zillowstatic.com/research/public/City/City_Zhvi_AllHomes.csv), ```City_Zhvi_AllHomes.csv```, has median home sale prices at a fine grained level.\n",
    "* From the Wikipedia page on college towns is a list of [university towns in the United States](https://en.wikipedia.org/wiki/List_of_college_towns#College_towns_in_the_United_States) which has been copy and pasted into the file ```university_towns.txt```.\n",
    "* From Bureau of Economic Analysis, US Department of Commerce, the [GDP over time](http://www.bea.gov/national/index.htm#gdp) of the United States in current dollars (use the chained value in 2009 dollars), in quarterly intervals, in the file ```gdplev.xls```. For this assignment, only look at GDP data from the first quarter of 2000 onward.\n",
    "\n",
    "Each function in this assignment below is worth 10%, with the exception of ```run_ttest()```, which is worth 50%."
   ]
  },
  {
   "cell_type": "code",
   "execution_count": 3,
   "metadata": {
    "collapsed": true
   },
   "outputs": [],
   "source": [
    "# Use this dictionary to map state names to two letter acronyms\n",
    "states = {'OH': 'Ohio', 'KY': 'Kentucky', 'AS': 'American Samoa', 'NV': 'Nevada', 'WY': 'Wyoming', 'NA': 'National', 'AL': 'Alabama', 'MD': 'Maryland', 'AK': 'Alaska', 'UT': 'Utah', 'OR': 'Oregon', 'MT': 'Montana', 'IL': 'Illinois', 'TN': 'Tennessee', 'DC': 'District of Columbia', 'VT': 'Vermont', 'ID': 'Idaho', 'AR': 'Arkansas', 'ME': 'Maine', 'WA': 'Washington', 'HI': 'Hawaii', 'WI': 'Wisconsin', 'MI': 'Michigan', 'IN': 'Indiana', 'NJ': 'New Jersey', 'AZ': 'Arizona', 'GU': 'Guam', 'MS': 'Mississippi', 'PR': 'Puerto Rico', 'NC': 'North Carolina', 'TX': 'Texas', 'SD': 'South Dakota', 'MP': 'Northern Mariana Islands', 'IA': 'Iowa', 'MO': 'Missouri', 'CT': 'Connecticut', 'WV': 'West Virginia', 'SC': 'South Carolina', 'LA': 'Louisiana', 'KS': 'Kansas', 'NY': 'New York', 'NE': 'Nebraska', 'OK': 'Oklahoma', 'FL': 'Florida', 'CA': 'California', 'CO': 'Colorado', 'PA': 'Pennsylvania', 'DE': 'Delaware', 'NM': 'New Mexico', 'RI': 'Rhode Island', 'MN': 'Minnesota', 'VI': 'Virgin Islands', 'NH': 'New Hampshire', 'MA': 'Massachusetts', 'GA': 'Georgia', 'ND': 'North Dakota', 'VA': 'Virginia'}"
   ]
  },
  {
   "cell_type": "code",
   "execution_count": 4,
   "metadata": {
    "collapsed": true,
    "scrolled": true
   },
   "outputs": [],
   "source": [
    "def get_list_of_university_towns():\n",
    "    '''Returns a DataFrame of towns and the states they are in from the \n",
    "    university_towns.txt list. The format of the DataFrame should be:\n",
    "    DataFrame( [ [\"Michigan\", \"Ann Arbor\"], [\"Michigan\", \"Yipsilanti\"] ], \n",
    "    columns=[\"State\", \"RegionName\"]  )\n",
    "    \n",
    "    The following cleaning needs to be done:\n",
    "\n",
    "    1. For \"State\", removing characters from \"[\" to the end.\n",
    "    2. For \"RegionName\", when applicable, removing every character from \" (\" to the end.\n",
    "    3. Depending on how you read the data, you may need to remove newline character '\\n'. '''\n",
    "    \n",
    "    import re\n",
    "    from collections import defaultdict\n",
    "    uni_dict= defaultdict(list)\n",
    "\n",
    "    with open('university_towns.txt','r') as uni_towns:\n",
    "        for lines in uni_towns:\n",
    "            if \"edit\" in lines:\n",
    "                mykey= re.match(r'.+?(?=\\[edit])',lines).group()\n",
    "            \n",
    "            elif ':' in lines:\n",
    "                myvalues = re.match(r'.+?(?=:)',lines).group()\n",
    "                uni_dict[mykey].append(myvalues)\n",
    "            \n",
    "            elif '(' in lines:\n",
    "                myvalues= re.match(r'.+?(?=\\()',lines).group()\n",
    "                myvalues=myvalues[:-1]\n",
    "                uni_dict[mykey].append(myvalues)\n",
    "            else:\n",
    "                myvalues=lines\n",
    "                uni_dict[mykey].append(myvalues)\n",
    "        \n",
    "                \n",
    "\n",
    "    list_stuff=[]\n",
    "    for k,v in uni_dict.items():\n",
    "        for values in v:\n",
    "            list_stuff.append(k + ',' + values )\n",
    "    state=[]\n",
    "    county=[]\n",
    "    for uni in list_stuff:\n",
    "        s=uni.split(',')[0]\n",
    "        c=uni.split(',')[1]\n",
    "        state.append(s)\n",
    "        county.append(c)\n",
    "    df1=pd.DataFrame(state,columns=['state'])\n",
    "    df2=pd.DataFrame(county,columns=['county'])\n",
    "    df_uni=df1.join(df2)\n",
    "    return df_uni\n",
    "#get_list_of_university_towns()"
   ]
  },
  {
   "cell_type": "code",
   "execution_count": 18,
   "metadata": {
    "umich_part_id": "022",
    "umich_partlist_id": "004"
   },
   "outputs": [
    {
     "data": {
      "text/html": [
       "<div>\n",
       "<table border=\"1\" class=\"dataframe\">\n",
       "  <thead>\n",
       "    <tr style=\"text-align: right;\">\n",
       "      <th></th>\n",
       "      <th>Quarter</th>\n",
       "      <th>GDP in billions of chained 2009 dollars</th>\n",
       "      <th>pct_change</th>\n",
       "    </tr>\n",
       "  </thead>\n",
       "  <tbody>\n",
       "    <tr>\n",
       "      <th>34</th>\n",
       "      <td>2008q3</td>\n",
       "      <td>14891.6</td>\n",
       "      <td>-0.004798</td>\n",
       "    </tr>\n",
       "  </tbody>\n",
       "</table>\n",
       "</div>"
      ],
      "text/plain": [
       "   Quarter  GDP in billions of chained 2009 dollars  pct_change\n",
       "34  2008q3                                  14891.6   -0.004798"
      ]
     },
     "execution_count": 18,
     "metadata": {},
     "output_type": "execute_result"
    }
   ],
   "source": [
    "df_quaterlyGDP = pd.read_excel('gdplev.xls',usecols=[4,6],skiprows=220,header=None,\n",
    "             names=['Quarter','GDP in billions of chained 2009 dollars'])\n",
    "\n",
    "df_quaterlyGDP['pct_change'] = df_quaterlyGDP['GDP in billions of chained 2009 dollars'].astype(float).pct_change(1)\n",
    "def get_recession_start():\n",
    "    '''Returns the year and quarter of the recession start time as a \n",
    "    string value in a format such as 2005q3'''\n",
    "    \n",
    "    recession_start=df_quaterlyGDP.loc[(df_quaterlyGDP['pct_change']<0) & \n",
    "                                       (df_quaterlyGDP['pct_change'].shift(-1)<0) & (df_quaterlyGDP['pct_change'].shift(1)>0)]#.head(1).Quarter.values[0]\n",
    "    \n",
    "    return recession_start\n",
    "get_recession_start()\n"
   ]
  },
  {
   "cell_type": "code",
   "execution_count": 24,
   "metadata": {
    "umich_part_id": "023",
    "umich_partlist_id": "004"
   },
   "outputs": [
    {
     "data": {
      "text/plain": [
       "'2009q2'"
      ]
     },
     "execution_count": 24,
     "metadata": {},
     "output_type": "execute_result"
    }
   ],
   "source": [
    "def get_recession_end():\n",
    "    '''Returns the year and quarter of the recession end time as a \n",
    "    string value in a format such as 2005q3'''\n",
    "    \n",
    "    recession_end=df_quaterlyGDP.loc[(df_quaterlyGDP['pct_change']<0) & \n",
    "                                     (df_quaterlyGDP['pct_change'].shift(-1)>0) &\n",
    "                                     (df_quaterlyGDP['pct_change'].shift(1)<0) &\n",
    "                                    (df_quaterlyGDP['pct_change'].shift(-2)>0)].head(1).Quarter.values[0]\n",
    "       \n",
    "    return recession_end\n",
    "get_recession_end()"
   ]
  },
  {
   "cell_type": "code",
   "execution_count": 25,
   "metadata": {
    "umich_part_id": "024",
    "umich_partlist_id": "004"
   },
   "outputs": [
    {
     "data": {
      "text/plain": [
       "'2008q4'"
      ]
     },
     "execution_count": 25,
     "metadata": {},
     "output_type": "execute_result"
    }
   ],
   "source": [
    "def get_recession_bottom():\n",
    "    '''Returns the year and quarter of the recession bottom time as a \n",
    "    string value in a format such as 2005q3'''\n",
    "    \n",
    "    recession_start=df_quaterlyGDP.loc[(df_quaterlyGDP['pct_change']<0) & \n",
    "                                       (df_quaterlyGDP['pct_change'].shift(-1)<0)].head(1).Quarter.values[0]\n",
    "    \n",
    "    recession_end=df_quaterlyGDP.loc[(df_quaterlyGDP['pct_change']<0) & \n",
    "                                     (df_quaterlyGDP['pct_change'].shift(-1)>0) &\n",
    "                                     (df_quaterlyGDP['pct_change'].shift(1)<0) &\n",
    "                                    (df_quaterlyGDP['pct_change'].shift(2)<0)].head(1).Quarter.values[0]\n",
    "    \n",
    "    rec_start=df_quaterlyGDP.loc[df_quaterlyGDP['Quarter']==recession_start].index.values[0]\n",
    "    rec_end=df_quaterlyGDP.loc[df_quaterlyGDP['Quarter']==recession_end].index.values[0]\n",
    "    \n",
    "    recession_bottom=df_quaterlyGDP.iloc[rec_start:rec_end+1].sort_values('pct_change').head(1).Quarter.values[0]\n",
    "\n",
    "    return recession_bottom\n",
    "get_recession_bottom()"
   ]
  },
  {
   "cell_type": "code",
   "execution_count": 27,
   "metadata": {
    "scrolled": true,
    "umich_part_id": "025",
    "umich_partlist_id": "004"
   },
   "outputs": [],
   "source": [
    "def convert_housing_data_to_quarters():\n",
    "    '''Converts the housing data to quarters and returns it as mean \n",
    "    values in a dataframe. This dataframe should be a dataframe with\n",
    "    columns for 2000q1 through 2016q3, and should have a multi-index\n",
    "    in the shape of [\"State\",\"RegionName\"].\n",
    "    \n",
    "    Note: Quarters are defined in the assignment description, they are\n",
    "    not arbitrary three month periods.\n",
    "    \n",
    "    The resulting dataframe should have 67 columns, and 10,730 rows.\n",
    "    '''\n",
    "    df_house=pd.read_csv('City_Zhvi_AllHomes.csv')\n",
    "    df_house.drop(['RegionID','Metro','CountyName','SizeRank'],axis=1,inplace=True)\n",
    "    df_house.set_index(['State','RegionName'],inplace=True)\n",
    "    cols=range(0,45)\n",
    "    df_house.drop(df_house.columns[cols],axis=1,inplace=True)\n",
    "    df_quart=df_house.groupby(np.arange(len(df_house.columns))//3,axis=1).mean()\n",
    "    \n",
    "    def column_name():\n",
    "        col_name=[]\n",
    "        dic={}\n",
    "        years=list(range(2000,2017))\n",
    "        quarter=['q1','q2','q3','q4']\n",
    "        for y in years:\n",
    "            for q in quarter:\n",
    "                col_name.append(str(y)+q)\n",
    "        col_name=col_name[:-1]\n",
    "        for old,new in zip(df_quart.columns,col_name):\n",
    "            dic[old]=new\n",
    "        return dic\n",
    "    dictionary=column_name()\n",
    "    \n",
    "    pd.set_option('display.float_format', lambda x: '%.3f' % x)\n",
    "\n",
    "    df_quart.rename(columns=dictionary,inplace=True)\n",
    "    \n",
    "    return df_quart\n",
    "#convert_housing_data_to_quarters()"
   ]
  },
  {
   "cell_type": "code",
   "execution_count": 28,
   "metadata": {
    "umich_part_id": "026",
    "umich_partlist_id": "004"
   },
   "outputs": [
    {
     "data": {
      "text/plain": [
       "(True, 0.0010936185907365866, 'university_town')"
      ]
     },
     "execution_count": 28,
     "metadata": {},
     "output_type": "execute_result"
    }
   ],
   "source": [
    "def run_ttest():\n",
    "    '''First creates new data showing the decline or growth of housing prices\n",
    "    between the recession start and the recession bottom. Then runs a ttest\n",
    "    comparing the university town values to the non-university towns values, \n",
    "    return whether the alternative hypothesis (that the two groups are the same)\n",
    "    is true or not as well as the p-value of the confidence. \n",
    "    \n",
    "    Return the tuple (different, p, better) where different=True if the t-test is\n",
    "    True at a p<0.01 (we reject the null hypothesis), or different=False if \n",
    "    otherwise (we cannot reject the null hypothesis). The variable p should\n",
    "    be equal to the exact p value returned from scipy.stats.ttest_ind(). The\n",
    "    value for better should be either \"university town\" or \"non-university town\"\n",
    "    depending on which has a lower mean price ratio (which is equivilent to a\n",
    "    reduced market loss).'''\n",
    "    \n",
    "    df_states=pd.DataFrame.from_dict(states,orient='index')\n",
    "    df_states=df_states.reset_index().rename(columns={'index':'State',0:'State_name'}).set_index('State_name').sort_index()\n",
    "    uni_towns=get_list_of_university_towns()\n",
    "    uni_towns.set_index('state',inplace=True)\n",
    "    uni_towns=uni_towns.join(df_states,how='inner').rename(columns={'county':'RegionName'})\n",
    "    uni_towns=uni_towns.reset_index().set_index(['State','RegionName']).drop('index',axis=1)\n",
    "    uni_towns['uni_town']=True\n",
    "    df_house=convert_housing_data_to_quarters()\n",
    "    df_house\n",
    "    df_uni_price=df_house.reset_index().join(uni_towns,on=['State','RegionName']).set_index(df_house.index.names)\n",
    "    df_uni_price['uni_town']=df_uni_price['uni_town'].fillna(value=False)\n",
    "\n",
    "    recession_start=df_quaterlyGDP.loc[(df_quaterlyGDP['pct_change']<0) & \n",
    "                                       (df_quaterlyGDP['pct_change'].shift(-1)<0)].head(1).Quarter.values[0]\n",
    "    \n",
    "    recession_bottom=get_recession_bottom()\n",
    "\n",
    "    before_recession=(df_uni_price.columns.get_loc(recession_start))-1\n",
    "    df_uni_price['price_ratio']=df_uni_price.iloc[:,before_recession]/df_uni_price.loc[:,recession_bottom]\n",
    "\n",
    "    pvalue=ttest_ind(df_uni_price[df_uni_price['uni_town']==True]['price_ratio'],\n",
    "          df_uni_price[df_uni_price['uni_town']==False]['price_ratio'],nan_policy='omit').pvalue\n",
    "    better=df_uni_price.groupby(['uni_town'])['price_ratio'].agg({'avg':np.mean}).sort_values('avg').head(1).index.values[0]\n",
    "\n",
    "    if pvalue < 0.01:\n",
    "        if better == True:\n",
    "            ans=(True, + pvalue, 'university_town')\n",
    "        else:\n",
    "            ans=(True,pvalue,'non-university_town')\n",
    "    else:\n",
    "        if better == True:\n",
    "            ans=(False, + pvalue, 'university_town')\n",
    "        else:\n",
    "            ans=(False,pvalue,'non-university_town')\n",
    "    \n",
    "    return ans\n",
    "run_ttest()"
   ]
  }
 ],
 "metadata": {
  "coursera": {
   "course_slug": "python-data-analysis",
   "graded_item_id": "Il9Fx",
   "launcher_item_id": "TeDW0",
   "part_id": "WGlun"
  },
  "kernelspec": {
   "display_name": "Python 3",
   "language": "python",
   "name": "python3"
  },
  "language_info": {
   "codemirror_mode": {
    "name": "ipython",
    "version": 3
   },
   "file_extension": ".py",
   "mimetype": "text/x-python",
   "name": "python",
   "nbconvert_exporter": "python",
   "pygments_lexer": "ipython3",
   "version": "3.6.0"
  },
  "umich": {
   "id": "Assignment 4",
   "version": "1.1"
  }
 },
 "nbformat": 4,
 "nbformat_minor": 1
}
